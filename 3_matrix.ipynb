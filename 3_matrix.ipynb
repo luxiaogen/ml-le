{
 "cells": [
  {
   "cell_type": "code",
   "execution_count": 1,
   "id": "afa7f918-6388-4b5a-920f-eddd063fc48e",
   "metadata": {},
   "outputs": [],
   "source": [
    "import numpy as np"
   ]
  },
  {
   "cell_type": "code",
   "execution_count": 2,
   "id": "ecc0194e-3e33-4b9c-ba33-5e813055ddf8",
   "metadata": {},
   "outputs": [
    {
     "name": "stdout",
     "output_type": "stream",
     "text": [
      "[[1 2 3]\n",
      " [4 5 6]]\n",
      "(2, 3)\n"
     ]
    }
   ],
   "source": [
    "A = np.array([[1,2,3],[4,5,6]])\n",
    "B = np.array([[1,3,7],[5,0,2]])\n",
    "print(A)\n",
    "print(A.shape)"
   ]
  },
  {
   "cell_type": "code",
   "execution_count": 3,
   "id": "5b6d4372-e46d-418d-9b9e-6bb7785da028",
   "metadata": {},
   "outputs": [
    {
     "name": "stdout",
     "output_type": "stream",
     "text": [
      "[[1 4]\n",
      " [2 5]\n",
      " [3 6]]\n",
      "(3, 2)\n"
     ]
    }
   ],
   "source": [
    "# 1. 转置\n",
    "print(A.T)\n",
    "print(A.T.shape)"
   ]
  },
  {
   "cell_type": "code",
   "execution_count": 4,
   "id": "cc9f179b-5237-4e4e-9971-d2b2b319d894",
   "metadata": {},
   "outputs": [
    {
     "name": "stdout",
     "output_type": "stream",
     "text": [
      "[[ 2  5 10]\n",
      " [ 9  5  8]]\n",
      "[[ 2  9]\n",
      " [ 5  5]\n",
      " [10  8]]\n",
      "[[ 2  9]\n",
      " [ 5  5]\n",
      " [10  8]]\n"
     ]
    }
   ],
   "source": [
    "# 2. 矩阵相加\n",
    "print(A + B)\n",
    "print((A+B).T)\n",
    "print(A.T + B.T)"
   ]
  },
  {
   "cell_type": "code",
   "execution_count": 5,
   "id": "6fd69569-4b99-41f5-b65f-073154d64cfc",
   "metadata": {},
   "outputs": [
    {
     "name": "stdout",
     "output_type": "stream",
     "text": [
      "[[ 3  6  9]\n",
      " [12 15 18]]\n"
     ]
    }
   ],
   "source": [
    "# 3. 矩阵与标量相乘\n",
    "print(A * 3)"
   ]
  },
  {
   "cell_type": "code",
   "execution_count": 6,
   "id": "fcb8c6b3-69d3-4ab3-b72c-bff4b340ccfb",
   "metadata": {},
   "outputs": [
    {
     "name": "stdout",
     "output_type": "stream",
     "text": [
      "[[1 2 3]\n",
      " [4 5 6]]\n",
      "[[ 2  6 12]\n",
      " [ 8 15 24]]\n"
     ]
    }
   ],
   "source": [
    "# 4. 矩阵与向量相乘\n",
    "x = np.array([2, 3, 4])\n",
    "print(A)\n",
    "print(A * x)"
   ]
  },
  {
   "cell_type": "code",
   "execution_count": 7,
   "id": "a380bcf8-8c23-4efe-81cf-957ea63e9400",
   "metadata": {},
   "outputs": [
    {
     "name": "stdout",
     "output_type": "stream",
     "text": [
      "A = \n",
      " [[1 2 3]\n",
      " [4 5 6]]\n",
      "B = \n",
      " [[1 3 7]\n",
      " [5 0 2]]\n",
      "[[ 1  6 21]\n",
      " [20  0 12]]\n"
     ]
    }
   ],
   "source": [
    "# 5. 矩阵与矩阵相乘（对应位置元素相乘，哈达玛积）\n",
    "print(\"A = \\n\", A)\n",
    "print(\"B = \\n\", B)\n",
    "print(A * B)"
   ]
  },
  {
   "cell_type": "code",
   "execution_count": 8,
   "id": "d10d5bfb-b8b1-4d61-8f6b-04c13b1e7b36",
   "metadata": {},
   "outputs": [
    {
     "name": "stdout",
     "output_type": "stream",
     "text": [
      "[[28 11]\n",
      " [61 32]]\n"
     ]
    }
   ],
   "source": [
    "# 6. 矩阵乘法\n",
    "# print(A.dot(B))\n",
    "print(A.dot(B.T))"
   ]
  },
  {
   "cell_type": "code",
   "execution_count": 9,
   "id": "2994bdbb-c9d5-407c-bc17-7eb6112b1854",
   "metadata": {},
   "outputs": [
    {
     "name": "stdout",
     "output_type": "stream",
     "text": [
      "[[28 11]\n",
      " [61 32]]\n"
     ]
    }
   ],
   "source": [
    "print(A @ B.T)"
   ]
  },
  {
   "cell_type": "code",
   "execution_count": 10,
   "id": "e3e3d29f-872a-4043-a725-cadc64bd8663",
   "metadata": {},
   "outputs": [
    {
     "name": "stdout",
     "output_type": "stream",
     "text": [
      "C 的逆：\n",
      " [[-5.  2.]\n",
      " [ 3. -1.]]\n"
     ]
    }
   ],
   "source": [
    "# 7. 求逆\n",
    "C = np.array([[1,2],[3,5]])\n",
    "C_inv = np.linalg.inv(C)\n",
    "print(\"C 的逆：\\n\", C_inv)"
   ]
  },
  {
   "cell_type": "code",
   "execution_count": 11,
   "id": "6c902daa-be13-4624-9535-aacff2e9fe2d",
   "metadata": {},
   "outputs": [
    {
     "name": "stdout",
     "output_type": "stream",
     "text": [
      "[[1.0000000e+00 0.0000000e+00]\n",
      " [8.8817842e-16 1.0000000e+00]]\n",
      "[[1.00000000e+00 2.22044605e-16]\n",
      " [1.11022302e-16 1.00000000e+00]]\n"
     ]
    }
   ],
   "source": [
    "print(C.dot(C_inv))\n",
    "print(C_inv.dot(C))"
   ]
  },
  {
   "cell_type": "code",
   "execution_count": 12,
   "id": "83bb1a10-c2bf-4213-a871-a73db750ee52",
   "metadata": {},
   "outputs": [
    {
     "name": "stdout",
     "output_type": "stream",
     "text": [
      "C 的逆：\n",
      " [[-5  2]\n",
      " [ 3 -1]]\n"
     ]
    }
   ],
   "source": [
    "C_inv = np.linalg.inv(C)\n",
    "C_inv = np.around(C_inv).astype(int)\n",
    "print(\"C 的逆：\\n\", C_inv)"
   ]
  },
  {
   "cell_type": "code",
   "execution_count": 13,
   "id": "4898bbe8-1ed7-438a-94fb-e62c88471966",
   "metadata": {},
   "outputs": [
    {
     "name": "stdout",
     "output_type": "stream",
     "text": [
      "[[1 0]\n",
      " [0 1]]\n",
      "[[1 0]\n",
      " [0 1]]\n"
     ]
    }
   ],
   "source": [
    "print(C.dot(C_inv))\n",
    "print(C_inv.dot(C))"
   ]
  },
  {
   "cell_type": "code",
   "execution_count": 14,
   "id": "b193f629-8e3c-4352-bce3-244651bbcb53",
   "metadata": {},
   "outputs": [
    {
     "name": "stdout",
     "output_type": "stream",
     "text": [
      "A 的伪逆：\n",
      " [[-0.94444444  0.44444444]\n",
      " [-0.11111111  0.11111111]\n",
      " [ 0.72222222 -0.22222222]]\n"
     ]
    }
   ],
   "source": [
    "A_inv = np.linalg.pinv(A)\n",
    "print(\"A 的伪逆：\\n\", A_inv)"
   ]
  },
  {
   "cell_type": "code",
   "execution_count": 15,
   "id": "6625c90f-4c2e-4332-a463-be412b1c2867",
   "metadata": {},
   "outputs": [
    {
     "name": "stdout",
     "output_type": "stream",
     "text": [
      "[[ 1.00000000e+00 -2.77555756e-16]\n",
      " [-1.11022302e-15  1.00000000e+00]]\n",
      "[[ 0.83333333  0.33333333 -0.16666667]\n",
      " [ 0.33333333  0.33333333  0.33333333]\n",
      " [-0.16666667  0.33333333  0.83333333]]\n"
     ]
    }
   ],
   "source": [
    "print(A @ A_inv)\n",
    "print(A_inv @ A)"
   ]
  },
  {
   "cell_type": "code",
   "execution_count": 16,
   "id": "f0a3cdc7-6f70-4d0e-9a77-d3ae0e6d3fef",
   "metadata": {},
   "outputs": [
    {
     "name": "stdout",
     "output_type": "stream",
     "text": [
      "A[0][0] =  1\n"
     ]
    }
   ],
   "source": [
    "# 8. 取矩阵中的元素\n",
    "print(\"A[0][0] = \", A[0][0])"
   ]
  },
  {
   "cell_type": "code",
   "execution_count": 17,
   "id": "da86fdcc-f62c-4341-bb40-8dd90c9baa59",
   "metadata": {},
   "outputs": [
    {
     "name": "stdout",
     "output_type": "stream",
     "text": [
      "A[1][2] =  6\n"
     ]
    }
   ],
   "source": [
    "print(\"A[1][2] = \", A[1][2])"
   ]
  },
  {
   "cell_type": "code",
   "execution_count": 18,
   "id": "fe21aeac-6bb8-47b3-a3cd-63a94175956d",
   "metadata": {},
   "outputs": [
    {
     "name": "stdout",
     "output_type": "stream",
     "text": [
      "A[1] =  [4 5 6]\n"
     ]
    }
   ],
   "source": [
    "print(\"A[1] = \", A[1])"
   ]
  },
  {
   "cell_type": "code",
   "execution_count": 19,
   "id": "ceed37d7-5e55-4422-bd72-6c323bbf79b8",
   "metadata": {},
   "outputs": [
    {
     "name": "stdout",
     "output_type": "stream",
     "text": [
      "[1 2 3 4 5 6]\n",
      "[1 3 7 5 0 2]\n"
     ]
    }
   ],
   "source": [
    "# 9. 向量化\n",
    "print(A.flatten())\n",
    "print(B.flatten())"
   ]
  },
  {
   "cell_type": "code",
   "execution_count": 20,
   "id": "e5a9db47-0df8-490b-a0b0-345b220d6b3c",
   "metadata": {},
   "outputs": [
    {
     "name": "stdout",
     "output_type": "stream",
     "text": [
      "<A, B> =  60\n"
     ]
    }
   ],
   "source": [
    "# 10. 矩阵内积\n",
    "print(\"<A, B> = \", np.sum(A * B))"
   ]
  },
  {
   "cell_type": "code",
   "execution_count": 21,
   "id": "3c3c4ee5-ac95-4ba2-b262-163baeab3691",
   "metadata": {},
   "outputs": [
    {
     "name": "stdout",
     "output_type": "stream",
     "text": [
      "<A, B> =  60\n"
     ]
    }
   ],
   "source": [
    "print(\"<A, B> = \", np.dot(A.flatten(), B.flatten()))"
   ]
  },
  {
   "cell_type": "code",
   "execution_count": 22,
   "id": "0b1f3e85-f212-4e8c-b711-c0dfacc18fa0",
   "metadata": {},
   "outputs": [
    {
     "name": "stdout",
     "output_type": "stream",
     "text": [
      "哈达玛积：\n",
      " [[ 1  6 21]\n",
      " [20  0 12]]\n"
     ]
    }
   ],
   "source": [
    "# 11. 哈达玛积\n",
    "print(\"哈达玛积：\\n\", A * B)"
   ]
  },
  {
   "cell_type": "code",
   "execution_count": 23,
   "id": "7ef660a2-73be-4236-9cd8-56429225ec0e",
   "metadata": {},
   "outputs": [
    {
     "name": "stdout",
     "output_type": "stream",
     "text": [
      "哈达玛积：\n",
      " [[ 1  6 21]\n",
      " [20  0 12]]\n"
     ]
    }
   ],
   "source": [
    "print(\"哈达玛积：\\n\", np.multiply(A, B))"
   ]
  },
  {
   "cell_type": "code",
   "execution_count": 24,
   "id": "28987df0-69c2-4e1f-b25a-70a2480405d5",
   "metadata": {},
   "outputs": [
    {
     "name": "stdout",
     "output_type": "stream",
     "text": [
      "克罗内克积：\n",
      " [[ 1  3  7  2  6 14  3  9 21]\n",
      " [ 5  0  2 10  0  4 15  0  6]\n",
      " [ 4 12 28  5 15 35  6 18 42]\n",
      " [20  0  8 25  0 10 30  0 12]]\n"
     ]
    }
   ],
   "source": [
    "# 12. 克罗内克积\n",
    "print(\"克罗内克积：\\n\", np.kron(A, B))"
   ]
  },
  {
   "cell_type": "code",
   "execution_count": 25,
   "id": "d1429bfe-b70e-4bbc-a91e-343ce379189b",
   "metadata": {},
   "outputs": [
    {
     "name": "stdout",
     "output_type": "stream",
     "text": [
      "[[[ 1  2  3]\n",
      "  [ 4  5  6]]\n",
      "\n",
      " [[ 7  8  9]\n",
      "  [10 11 12]]]\n",
      "(2, 2, 3)\n"
     ]
    }
   ],
   "source": [
    "# 定义张量\n",
    "tensor = np.array([[[1,2,3],[4,5,6]], [[7,8,9],[10,11,12]]])\n",
    "print(tensor)\n",
    "print(tensor.shape)"
   ]
  },
  {
   "cell_type": "code",
   "execution_count": 26,
   "id": "66d14d18-6f71-4234-a534-1a3643538b0f",
   "metadata": {},
   "outputs": [
    {
     "name": "stdout",
     "output_type": "stream",
     "text": [
      "[1.  1.5 2.5 3.5 4.5 5. ]\n"
     ]
    }
   ],
   "source": [
    "# 计算梯度\n",
    "f = np.array([1,2,4,7,11,16])\n",
    "grad = np.gradient(f)\n",
    "print(grad)"
   ]
  },
  {
   "cell_type": "code",
   "execution_count": 27,
   "id": "e87f5d11-7448-4229-807b-d53cd3486e5f",
   "metadata": {},
   "outputs": [
    {
     "name": "stdout",
     "output_type": "stream",
     "text": [
      "[[1 2 3]\n",
      " [4 5 6]]\n",
      "[array([[3., 3., 3.],\n",
      "       [3., 3., 3.]]), array([[1., 1., 1.],\n",
      "       [1., 1., 1.]])]\n"
     ]
    }
   ],
   "source": [
    "print(A)\n",
    "print(np.gradient(A))"
   ]
  },
  {
   "cell_type": "code",
   "execution_count": 28,
   "id": "7a31d2fc-ffef-47ab-a736-dfee87097665",
   "metadata": {},
   "outputs": [
    {
     "name": "stdout",
     "output_type": "stream",
     "text": [
      "[[1 3 7]\n",
      " [5 0 2]]\n",
      "[array([[ 4., -3., -5.],\n",
      "       [ 4., -3., -5.]]), array([[ 2. ,  3. ,  4. ],\n",
      "       [-5. , -1.5,  2. ]])]\n"
     ]
    }
   ],
   "source": [
    "print(B)\n",
    "print(np.gradient(B))"
   ]
  },
  {
   "cell_type": "code",
   "execution_count": 29,
   "id": "214baa58-b820-4fc6-b30b-5f42edabb4a3",
   "metadata": {},
   "outputs": [
    {
     "name": "stdout",
     "output_type": "stream",
     "text": [
      "[[[ 1  2  3]\n",
      "  [ 4  5  6]]\n",
      "\n",
      " [[ 7  8  9]\n",
      "  [10 11 12]]]\n",
      "[array([[[6., 6., 6.],\n",
      "        [6., 6., 6.]],\n",
      "\n",
      "       [[6., 6., 6.],\n",
      "        [6., 6., 6.]]]), array([[[3., 3., 3.],\n",
      "        [3., 3., 3.]],\n",
      "\n",
      "       [[3., 3., 3.],\n",
      "        [3., 3., 3.]]]), array([[[1., 1., 1.],\n",
      "        [1., 1., 1.]],\n",
      "\n",
      "       [[1., 1., 1.],\n",
      "        [1., 1., 1.]]])]\n"
     ]
    }
   ],
   "source": [
    "print(tensor)\n",
    "print(np.gradient(tensor))"
   ]
  },
  {
   "cell_type": "code",
   "execution_count": null,
   "id": "57f698e6-a9af-4220-83f0-6a7c0bc1aab2",
   "metadata": {},
   "outputs": [],
   "source": []
  }
 ],
 "metadata": {
  "kernelspec": {
   "display_name": "ml-le",
   "language": "python",
   "name": "python3"
  },
  "language_info": {
   "codemirror_mode": {
    "name": "ipython",
    "version": 3
   },
   "file_extension": ".py",
   "mimetype": "text/x-python",
   "name": "python",
   "nbconvert_exporter": "python",
   "pygments_lexer": "ipython3",
   "version": "3.8.20"
  }
 },
 "nbformat": 4,
 "nbformat_minor": 5
}
