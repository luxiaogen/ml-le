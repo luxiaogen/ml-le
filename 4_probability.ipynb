{
 "cells": [
  {
   "cell_type": "code",
   "execution_count": 1,
   "id": "ec8f34d7-85f6-4641-b618-86fa30db36ef",
   "metadata": {},
   "outputs": [],
   "source": [
    "import numpy as np"
   ]
  },
  {
   "cell_type": "code",
   "execution_count": 2,
   "id": "0b4bbf9f-b6d4-4068-8399-81e6caf83240",
   "metadata": {},
   "outputs": [
    {
     "name": "stdout",
     "output_type": "stream",
     "text": [
      "[0.81629276 0.18376025 0.65828163 0.46493736 0.85091191]\n"
     ]
    }
   ],
   "source": [
    "# 随机生成(0,1)均匀分布的数据\n",
    "a = np.random.rand(5)\n",
    "print(a)"
   ]
  },
  {
   "cell_type": "code",
   "execution_count": 3,
   "id": "810dd3ba-7108-45eb-a3f7-a34b33d2d344",
   "metadata": {},
   "outputs": [
    {
     "name": "stdout",
     "output_type": "stream",
     "text": [
      "[[0.98717091 0.53018817 0.0510147 ]\n",
      " [0.05188794 0.79137123 0.52654051]]\n"
     ]
    }
   ],
   "source": [
    "a = np.random.rand(2, 3)\n",
    "print(a)"
   ]
  },
  {
   "cell_type": "code",
   "execution_count": 6,
   "id": "34fe35ab-be82-4b8f-87e5-d4a9263400a3",
   "metadata": {},
   "outputs": [
    {
     "name": "stdout",
     "output_type": "stream",
     "text": [
      "[[58 19 60]\n",
      " [53 48 24]]\n"
     ]
    }
   ],
   "source": [
    "# 随机生成均匀分布的整数\n",
    "b = np.random.randint(0, 100, size=[2,3])\n",
    "print(b)"
   ]
  },
  {
   "cell_type": "code",
   "execution_count": 7,
   "id": "1f3e524e-f0df-41b5-a728-2e27245672dd",
   "metadata": {},
   "outputs": [
    {
     "name": "stdout",
     "output_type": "stream",
     "text": [
      "[[ 0.55139594 -0.72406339  0.56904278  0.7618092  -1.09439723]\n",
      " [-0.05243343  1.10069409  0.15954578  1.0441573  -0.0201726 ]]\n"
     ]
    }
   ],
   "source": [
    "# 随机生成服从标准正态分布的数据\n",
    "c = np.random.randn(2, 5)\n",
    "print(c)"
   ]
  },
  {
   "cell_type": "code",
   "execution_count": 8,
   "id": "35e39efe-8809-4f8a-bc42-9c3bc9d46e25",
   "metadata": {},
   "outputs": [
    {
     "name": "stdout",
     "output_type": "stream",
     "text": [
      "[[55.5139594  42.75936609 55.69042781 57.61809204 39.05602772]\n",
      " [49.47566568 61.00694092 51.59545779 60.44157296 49.798274  ]]\n"
     ]
    }
   ],
   "source": [
    "print( (c+5) * 10)"
   ]
  },
  {
   "cell_type": "code",
   "execution_count": null,
   "id": "2c14e90a-c78f-40bc-9b70-7c402db3236b",
   "metadata": {},
   "outputs": [],
   "source": []
  }
 ],
 "metadata": {
  "kernelspec": {
   "display_name": "Python 3 (ipykernel)",
   "language": "python",
   "name": "python3"
  },
  "language_info": {
   "codemirror_mode": {
    "name": "ipython",
    "version": 3
   },
   "file_extension": ".py",
   "mimetype": "text/x-python",
   "name": "python",
   "nbconvert_exporter": "python",
   "pygments_lexer": "ipython3",
   "version": "3.12.9"
  }
 },
 "nbformat": 4,
 "nbformat_minor": 5
}
